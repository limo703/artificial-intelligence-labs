{
 "cells": [
  {
   "cell_type": "markdown",
   "id": "c9847c5b",
   "metadata": {},
   "source": [
    "# 1. Импорт данных."
   ]
  },
  {
   "cell_type": "code",
   "execution_count": 118,
   "id": "944f8934-e748-4823-9cb7-d96f725a8991",
   "metadata": {
    "id": "944f8934-e748-4823-9cb7-d96f725a8991"
   },
   "outputs": [],
   "source": [
    "import matplotlib as mpl\n",
    "import matplotlib.pyplot as plt\n",
    "import numpy as np\n",
    "import pandas as pd\n",
    "from pprint import pprint"
   ]
  },
  {
   "cell_type": "code",
   "execution_count": 119,
   "id": "c1466d45-e9e7-4e22-9b4f-aa150c2e3ed1",
   "metadata": {
    "id": "c1466d45-e9e7-4e22-9b4f-aa150c2e3ed1"
   },
   "outputs": [
    {
     "data": {
      "text/html": [
       "<div>\n",
       "<style scoped>\n",
       "    .dataframe tbody tr th:only-of-type {\n",
       "        vertical-align: middle;\n",
       "    }\n",
       "\n",
       "    .dataframe tbody tr th {\n",
       "        vertical-align: top;\n",
       "    }\n",
       "\n",
       "    .dataframe thead th {\n",
       "        text-align: right;\n",
       "    }\n",
       "</style>\n",
       "<table border=\"1\" class=\"dataframe\">\n",
       "  <thead>\n",
       "    <tr style=\"text-align: right;\">\n",
       "      <th></th>\n",
       "      <th>Serial No.</th>\n",
       "      <th>GRE Score</th>\n",
       "      <th>TOEFL Score</th>\n",
       "      <th>University Rating</th>\n",
       "      <th>SOP</th>\n",
       "      <th>LOR</th>\n",
       "      <th>CGPA</th>\n",
       "      <th>Research</th>\n",
       "      <th>Chance of Admit</th>\n",
       "    </tr>\n",
       "  </thead>\n",
       "  <tbody>\n",
       "    <tr>\n",
       "      <th>0</th>\n",
       "      <td>1</td>\n",
       "      <td>337</td>\n",
       "      <td>118</td>\n",
       "      <td>4</td>\n",
       "      <td>4.5</td>\n",
       "      <td>4.5</td>\n",
       "      <td>9.65</td>\n",
       "      <td>1</td>\n",
       "      <td>0.92</td>\n",
       "    </tr>\n",
       "    <tr>\n",
       "      <th>1</th>\n",
       "      <td>2</td>\n",
       "      <td>324</td>\n",
       "      <td>107</td>\n",
       "      <td>4</td>\n",
       "      <td>4.0</td>\n",
       "      <td>4.5</td>\n",
       "      <td>8.87</td>\n",
       "      <td>1</td>\n",
       "      <td>0.76</td>\n",
       "    </tr>\n",
       "    <tr>\n",
       "      <th>2</th>\n",
       "      <td>3</td>\n",
       "      <td>316</td>\n",
       "      <td>104</td>\n",
       "      <td>3</td>\n",
       "      <td>3.0</td>\n",
       "      <td>3.5</td>\n",
       "      <td>8.00</td>\n",
       "      <td>1</td>\n",
       "      <td>0.72</td>\n",
       "    </tr>\n",
       "    <tr>\n",
       "      <th>3</th>\n",
       "      <td>4</td>\n",
       "      <td>322</td>\n",
       "      <td>110</td>\n",
       "      <td>3</td>\n",
       "      <td>3.5</td>\n",
       "      <td>2.5</td>\n",
       "      <td>8.67</td>\n",
       "      <td>1</td>\n",
       "      <td>0.80</td>\n",
       "    </tr>\n",
       "    <tr>\n",
       "      <th>4</th>\n",
       "      <td>5</td>\n",
       "      <td>314</td>\n",
       "      <td>103</td>\n",
       "      <td>2</td>\n",
       "      <td>2.0</td>\n",
       "      <td>3.0</td>\n",
       "      <td>8.21</td>\n",
       "      <td>0</td>\n",
       "      <td>0.65</td>\n",
       "    </tr>\n",
       "    <tr>\n",
       "      <th>...</th>\n",
       "      <td>...</td>\n",
       "      <td>...</td>\n",
       "      <td>...</td>\n",
       "      <td>...</td>\n",
       "      <td>...</td>\n",
       "      <td>...</td>\n",
       "      <td>...</td>\n",
       "      <td>...</td>\n",
       "      <td>...</td>\n",
       "    </tr>\n",
       "    <tr>\n",
       "      <th>395</th>\n",
       "      <td>396</td>\n",
       "      <td>324</td>\n",
       "      <td>110</td>\n",
       "      <td>3</td>\n",
       "      <td>3.5</td>\n",
       "      <td>3.5</td>\n",
       "      <td>9.04</td>\n",
       "      <td>1</td>\n",
       "      <td>0.82</td>\n",
       "    </tr>\n",
       "    <tr>\n",
       "      <th>396</th>\n",
       "      <td>397</td>\n",
       "      <td>325</td>\n",
       "      <td>107</td>\n",
       "      <td>3</td>\n",
       "      <td>3.0</td>\n",
       "      <td>3.5</td>\n",
       "      <td>9.11</td>\n",
       "      <td>1</td>\n",
       "      <td>0.84</td>\n",
       "    </tr>\n",
       "    <tr>\n",
       "      <th>397</th>\n",
       "      <td>398</td>\n",
       "      <td>330</td>\n",
       "      <td>116</td>\n",
       "      <td>4</td>\n",
       "      <td>5.0</td>\n",
       "      <td>4.5</td>\n",
       "      <td>9.45</td>\n",
       "      <td>1</td>\n",
       "      <td>0.91</td>\n",
       "    </tr>\n",
       "    <tr>\n",
       "      <th>398</th>\n",
       "      <td>399</td>\n",
       "      <td>312</td>\n",
       "      <td>103</td>\n",
       "      <td>3</td>\n",
       "      <td>3.5</td>\n",
       "      <td>4.0</td>\n",
       "      <td>8.78</td>\n",
       "      <td>0</td>\n",
       "      <td>0.67</td>\n",
       "    </tr>\n",
       "    <tr>\n",
       "      <th>399</th>\n",
       "      <td>400</td>\n",
       "      <td>333</td>\n",
       "      <td>117</td>\n",
       "      <td>4</td>\n",
       "      <td>5.0</td>\n",
       "      <td>4.0</td>\n",
       "      <td>9.66</td>\n",
       "      <td>1</td>\n",
       "      <td>0.95</td>\n",
       "    </tr>\n",
       "  </tbody>\n",
       "</table>\n",
       "<p>400 rows × 9 columns</p>\n",
       "</div>"
      ],
      "text/plain": [
       "     Serial No.  GRE Score  TOEFL Score  University Rating  SOP  LOR   CGPA  \\\n",
       "0             1        337          118                  4  4.5   4.5  9.65   \n",
       "1             2        324          107                  4  4.0   4.5  8.87   \n",
       "2             3        316          104                  3  3.0   3.5  8.00   \n",
       "3             4        322          110                  3  3.5   2.5  8.67   \n",
       "4             5        314          103                  2  2.0   3.0  8.21   \n",
       "..          ...        ...          ...                ...  ...   ...   ...   \n",
       "395         396        324          110                  3  3.5   3.5  9.04   \n",
       "396         397        325          107                  3  3.0   3.5  9.11   \n",
       "397         398        330          116                  4  5.0   4.5  9.45   \n",
       "398         399        312          103                  3  3.5   4.0  8.78   \n",
       "399         400        333          117                  4  5.0   4.0  9.66   \n",
       "\n",
       "     Research  Chance of Admit   \n",
       "0           1              0.92  \n",
       "1           1              0.76  \n",
       "2           1              0.72  \n",
       "3           1              0.80  \n",
       "4           0              0.65  \n",
       "..        ...               ...  \n",
       "395         1              0.82  \n",
       "396         1              0.84  \n",
       "397         1              0.91  \n",
       "398         0              0.67  \n",
       "399         1              0.95  \n",
       "\n",
       "[400 rows x 9 columns]"
      ]
     },
     "execution_count": 119,
     "metadata": {},
     "output_type": "execute_result"
    }
   ],
   "source": [
    "data = pd.read_csv('Admission_Predict.csv')\n",
    "data"
   ]
  },
  {
   "cell_type": "markdown",
   "id": "7c2c7bb7",
   "metadata": {},
   "source": [
    "# 2. Определяем тип задачи"
   ]
  },
  {
   "cell_type": "markdown",
   "id": "8861b97d-58d3-4887-8e69-6d2910438ce2",
   "metadata": {
    "id": "8861b97d-58d3-4887-8e69-6d2910438ce2"
   },
   "source": [
    "Регрессия, тк значение варьируется от 0 до 1"
   ]
  },
  {
   "cell_type": "code",
   "execution_count": 120,
   "id": "6b40e7f3",
   "metadata": {},
   "outputs": [
    {
     "data": {
      "text/html": [
       "<div>\n",
       "<style scoped>\n",
       "    .dataframe tbody tr th:only-of-type {\n",
       "        vertical-align: middle;\n",
       "    }\n",
       "\n",
       "    .dataframe tbody tr th {\n",
       "        vertical-align: top;\n",
       "    }\n",
       "\n",
       "    .dataframe thead th {\n",
       "        text-align: right;\n",
       "    }\n",
       "</style>\n",
       "<table border=\"1\" class=\"dataframe\">\n",
       "  <thead>\n",
       "    <tr style=\"text-align: right;\">\n",
       "      <th></th>\n",
       "      <th>Serial No.</th>\n",
       "      <th>GRE Score</th>\n",
       "      <th>TOEFL Score</th>\n",
       "      <th>University Rating</th>\n",
       "      <th>SOP</th>\n",
       "      <th>LOR</th>\n",
       "      <th>CGPA</th>\n",
       "      <th>Research</th>\n",
       "      <th>Chance of Admit</th>\n",
       "    </tr>\n",
       "  </thead>\n",
       "  <tbody>\n",
       "    <tr>\n",
       "      <th>0</th>\n",
       "      <td>1</td>\n",
       "      <td>337</td>\n",
       "      <td>118</td>\n",
       "      <td>4</td>\n",
       "      <td>4.5</td>\n",
       "      <td>4.5</td>\n",
       "      <td>9.65</td>\n",
       "      <td>1</td>\n",
       "      <td>0.92</td>\n",
       "    </tr>\n",
       "    <tr>\n",
       "      <th>1</th>\n",
       "      <td>2</td>\n",
       "      <td>324</td>\n",
       "      <td>107</td>\n",
       "      <td>4</td>\n",
       "      <td>4.0</td>\n",
       "      <td>4.5</td>\n",
       "      <td>8.87</td>\n",
       "      <td>1</td>\n",
       "      <td>0.76</td>\n",
       "    </tr>\n",
       "    <tr>\n",
       "      <th>2</th>\n",
       "      <td>3</td>\n",
       "      <td>316</td>\n",
       "      <td>104</td>\n",
       "      <td>3</td>\n",
       "      <td>3.0</td>\n",
       "      <td>3.5</td>\n",
       "      <td>8.00</td>\n",
       "      <td>1</td>\n",
       "      <td>0.72</td>\n",
       "    </tr>\n",
       "    <tr>\n",
       "      <th>3</th>\n",
       "      <td>4</td>\n",
       "      <td>322</td>\n",
       "      <td>110</td>\n",
       "      <td>3</td>\n",
       "      <td>3.5</td>\n",
       "      <td>2.5</td>\n",
       "      <td>8.67</td>\n",
       "      <td>1</td>\n",
       "      <td>0.80</td>\n",
       "    </tr>\n",
       "    <tr>\n",
       "      <th>4</th>\n",
       "      <td>5</td>\n",
       "      <td>314</td>\n",
       "      <td>103</td>\n",
       "      <td>2</td>\n",
       "      <td>2.0</td>\n",
       "      <td>3.0</td>\n",
       "      <td>8.21</td>\n",
       "      <td>0</td>\n",
       "      <td>0.65</td>\n",
       "    </tr>\n",
       "  </tbody>\n",
       "</table>\n",
       "</div>"
      ],
      "text/plain": [
       "   Serial No.  GRE Score  TOEFL Score  University Rating  SOP  LOR   CGPA  \\\n",
       "0           1        337          118                  4  4.5   4.5  9.65   \n",
       "1           2        324          107                  4  4.0   4.5  8.87   \n",
       "2           3        316          104                  3  3.0   3.5  8.00   \n",
       "3           4        322          110                  3  3.5   2.5  8.67   \n",
       "4           5        314          103                  2  2.0   3.0  8.21   \n",
       "\n",
       "   Research  Chance of Admit   \n",
       "0         1              0.92  \n",
       "1         1              0.76  \n",
       "2         1              0.72  \n",
       "3         1              0.80  \n",
       "4         0              0.65  "
      ]
     },
     "execution_count": 120,
     "metadata": {},
     "output_type": "execute_result"
    }
   ],
   "source": [
    "data.head()"
   ]
  },
  {
   "cell_type": "code",
   "execution_count": 121,
   "id": "4312eb74-eded-438b-9434-63b9ced55e16",
   "metadata": {
    "colab": {
     "base_uri": "https://localhost:8080/",
     "height": 499
    },
    "id": "4312eb74-eded-438b-9434-63b9ced55e16",
    "outputId": "f55a5064-c7d6-4a73-f5fa-474696f19237"
   },
   "outputs": [
    {
     "data": {
      "text/plain": [
       "<Axes: >"
      ]
     },
     "execution_count": 121,
     "metadata": {},
     "output_type": "execute_result"
    },
    {
     "data": {
      "image/png": "[encoded data removed]",
      "text/plain": [
       "<Figure size 640x480 with 1 Axes>"
      ]
     },
     "metadata": {},
     "output_type": "display_data"
    }
   ],
   "source": [
    "\n",
    "data[target_variable].hist()"
   ]
  },
  {
   "cell_type": "code",
   "execution_count": 122,
   "id": "c66e5424-f8ef-4f96-a592-c00a83798f84",
   "metadata": {
    "colab": {
     "base_uri": "https://localhost:8080/",
     "height": 384
    },
    "id": "c66e5424-f8ef-4f96-a592-c00a83798f84",
    "outputId": "58d997bc-1440-45df-dd4b-3dec634e0032"
   },
   "outputs": [
    {
     "data": {
      "text/plain": [
       "Serial No.           0\n",
       "GRE Score            0\n",
       "TOEFL Score          0\n",
       "University Rating    0\n",
       "SOP                  0\n",
       "LOR                  0\n",
       "CGPA                 0\n",
       "Research             0\n",
       "Chance of Admit      0\n",
       "dtype: int64"
      ]
     },
     "execution_count": 122,
     "metadata": {},
     "output_type": "execute_result"
    }
   ],
   "source": [
    "data.isnull().sum()"
   ]
  },
  {
   "cell_type": "code",
   "execution_count": 123,
   "id": "bw6vJfoqbzOc",
   "metadata": {
    "colab": {
     "base_uri": "https://localhost:8080/",
     "height": 352
    },
    "id": "bw6vJfoqbzOc",
    "outputId": "a90875a1-ae78-44b5-bd44-f48a92c23049"
   },
   "outputs": [
    {
     "data": {
      "text/plain": [
       "count    400.000000\n",
       "mean       0.724350\n",
       "std        0.142609\n",
       "min        0.340000\n",
       "25%        0.640000\n",
       "50%        0.730000\n",
       "75%        0.830000\n",
       "max        0.970000\n",
       "Name: Chance of Admit , dtype: float64"
      ]
     },
     "execution_count": 123,
     "metadata": {},
     "output_type": "execute_result"
    }
   ],
   "source": [
    "data[target_variable].describe()"
   ]
  },
  {
   "cell_type": "markdown",
   "id": "0967cb96",
   "metadata": {},
   "source": [
    "# 3. Предобработка данных"
   ]
  },
  {
   "cell_type": "code",
   "execution_count": 124,
   "id": "1roOWA-7fpzH",
   "metadata": {
    "id": "1roOWA-7fpzH"
   },
   "outputs": [
    {
     "data": {
      "text/plain": [
       "array([[ 1.76210664,  1.74697064,  0.79882862, ...,  1.16732114,\n",
       "         1.76481828,  0.90911166],\n",
       "       [ 0.62765641, -0.06763531,  0.79882862, ...,  1.16732114,\n",
       "         0.45515126,  0.90911166],\n",
       "       [-0.07046681, -0.56252785, -0.07660001, ...,  0.05293342,\n",
       "        -1.00563118,  0.90911166],\n",
       "       ...,\n",
       "       [ 1.15124883,  1.41704229,  0.79882862, ...,  1.16732114,\n",
       "         1.42900622,  0.90911166],\n",
       "       [-0.41952842, -0.72749202, -0.07660001, ...,  0.61012728,\n",
       "         0.30403584, -1.09997489],\n",
       "       [ 1.41304503,  1.58200646,  0.79882862, ...,  0.61012728,\n",
       "         1.78160888,  0.90911166]])"
      ]
     },
     "execution_count": 124,
     "metadata": {},
     "output_type": "execute_result"
    }
   ],
   "source": [
    "from sklearn.preprocessing import StandardScaler # Нормирование\n",
    "\n",
    "y = data[target_variable]\n",
    "X = data.drop(columns=[target_variable], axis=1)\n",
    "X = X.drop('Serial No.', axis=1)\n",
    "\n",
    "X_ans = StandardScaler().fit_transform(X)\n",
    "X_ans"
   ]
  },
  {
   "cell_type": "code",
   "execution_count": 125,
   "id": "FRAeMjVVf4ZR",
   "metadata": {
    "id": "FRAeMjVVf4ZR"
   },
   "outputs": [],
   "source": [
    "from sklearn.model_selection import train_test_split\n",
    "\n",
    "X_train, X_test, y_train, y_test = train_test_split(X_ans, y, test_size=0.2, random_state=33)"
   ]
  },
  {
   "cell_type": "code",
   "execution_count": 126,
   "id": "LC1uL4zti0ZZ",
   "metadata": {
    "colab": {
     "base_uri": "https://localhost:8080/"
    },
    "id": "LC1uL4zti0ZZ",
    "outputId": "3343ef61-cdb8-4016-e8ca-5cf346cedd20"
   },
   "outputs": [
    {
     "name": "stdout",
     "output_type": "stream",
     "text": [
      "<class 'pandas.core.frame.DataFrame'>\n",
      "RangeIndex: 400 entries, 0 to 399\n",
      "Data columns (total 9 columns):\n",
      " #   Column             Non-Null Count  Dtype  \n",
      "---  ------             --------------  -----  \n",
      " 0   Serial No.         400 non-null    int64  \n",
      " 1   GRE Score          400 non-null    int64  \n",
      " 2   TOEFL Score        400 non-null    int64  \n",
      " 3   University Rating  400 non-null    int64  \n",
      " 4   SOP                400 non-null    float64\n",
      " 5   LOR                400 non-null    float64\n",
      " 6   CGPA               400 non-null    float64\n",
      " 7   Research           400 non-null    int64  \n",
      " 8   Chance of Admit    400 non-null    float64\n",
      "dtypes: float64(4), int64(5)\n",
      "memory usage: 28.3 KB\n"
     ]
    }
   ],
   "source": [
    "data.info()"
   ]
  },
  {
   "cell_type": "markdown",
   "id": "42c2a3ce",
   "metadata": {},
   "source": [
    "Обучить на тренировочном множестве:\n",
    "Линейную модель (LogisticRegression, LinearRegression)\n",
    "Деревянную модель (DecisionTreeClassifier, DecisionTreeRegressor) (тут советую попробовать разные глубины деревьев)\n",
    "K-ближайших соседей (KNeighborsClassifier, KNeighborsRegressor) (тут тоже есть смысл попробовать разные k)\n",
    "Случайный лес (RandomForestClassifier, RandomForestRegressor)\n"
   ]
  },
  {
   "cell_type": "code",
   "execution_count": 127,
   "id": "ccHUHQZfFYTR",
   "metadata": {
    "id": "ccHUHQZfFYTR"
   },
   "outputs": [],
   "source": [
    "from sklearn.metrics import mean_squared_error, root_mean_squared_error"
   ]
  },
  {
   "cell_type": "markdown",
   "id": "AXlX3owRmmyZ",
   "metadata": {
    "id": "AXlX3owRmmyZ"
   },
   "source": [
    "Линейная модель"
   ]
  },
  {
   "cell_type": "code",
   "execution_count": 128,
   "id": "C4NIZG4cmilv",
   "metadata": {
    "id": "C4NIZG4cmilv"
   },
   "outputs": [],
   "source": [
    "from sklearn.linear_model import LinearRegression\n",
    "\n",
    "model = LinearRegression()\n",
    "model.fit(X_train, y_train)\n",
    "\n",
    "y_pred_model = model.predict(X_test)\n",
    "\n",
    "mae_model = mean_squared_error(y_test, y_pred_model)\n",
    "rmse_model = root_mean_squared_error(y_test, y_pred_model)"
   ]
  },
  {
   "cell_type": "markdown",
   "id": "6daef949",
   "metadata": {},
   "source": [
    "Линейная регрессия — это один из самых простых и популярных методов в машинном обучении для задач регрессии, где цель — предсказать числовое значение. Модель основывается на предположении, что существует линейная зависимость между входными признаками и целевой переменной."
   ]
  },
  {
   "cell_type": "markdown",
   "id": "57156fd7",
   "metadata": {},
   "source": [
    "Во время обучения модель находит оптимальные значения коэффициентов, минимизируя ошибку (например, через метод наименьших квадратов).\n"
   ]
  },
  {
   "cell_type": "markdown",
   "id": "-iWhQ2Hnx2vE",
   "metadata": {
    "id": "-iWhQ2Hnx2vE"
   },
   "source": [
    "Деревянная модель"
   ]
  },
  {
   "cell_type": "code",
   "execution_count": 129,
   "id": "jQIcAvqNx5db",
   "metadata": {
    "id": "jQIcAvqNx5db"
   },
   "outputs": [],
   "source": [
    "from sklearn.tree import DecisionTreeRegressor\n",
    "\n",
    "tree = DecisionTreeRegressor(max_depth=5)\n",
    "tree.fit(X_train, y_train)\n",
    "\n",
    "y_pred_tree = tree.predict(X_test)\n",
    "\n",
    "mae_tree = mean_squared_error(y_test, y_pred_tree)\n",
    "rmse_tree = root_mean_squared_error(y_test, y_pred_tree)"
   ]
  },
  {
   "cell_type": "markdown",
   "id": "e8f77947",
   "metadata": {},
   "source": [
    "строит дерево, где каждый узел представляет собой проверку одного из признаков, а ветви — это результат этой проверки. разделении данных по признакам с максимальным уменьшением неопределенности (например, с использованием критерия уменьшения энтропии для классификации или MSE для регрессии)."
   ]
  },
  {
   "cell_type": "markdown",
   "id": "sf50xtQg1u9D",
   "metadata": {
    "id": "sf50xtQg1u9D"
   },
   "source": [
    "K-ближайшие соседи"
   ]
  },
  {
   "cell_type": "code",
   "execution_count": 130,
   "id": "_1zVqIcQ1wYj",
   "metadata": {
    "id": "_1zVqIcQ1wYj"
   },
   "outputs": [],
   "source": [
    "from sklearn.neighbors import KNeighborsRegressor\n",
    "\n",
    "knn = KNeighborsRegressor()\n",
    "knn.fit(X_train, y_train)\n",
    "\n",
    "y_pred_knn = knn.predict(X_test)\n",
    "\n",
    "mae_knn = mean_squared_error(y_test, y_pred_knn)\n",
    "rmse_knn = root_mean_squared_error(y_test, y_pred_knn)"
   ]
  },
  {
   "cell_type": "markdown",
   "id": "3e81fba5",
   "metadata": {},
   "source": [
    "1) сначала вычисляется расстояние между тестовым и всеми обучающими образцами;\n",
    "\n",
    "2) далее из них выбирается k-ближайших образцов (соседей), где число k задаётся заранее;\n",
    "\n",
    "3) итоговым прогнозом среди выбранных k-ближайших образцов будет мода в случае классификации и среднее арифметическое в случае регрессии;\n",
    "\n",
    "4) предыдущие шаги повторяются для всех тестовых образцов."
   ]
  },
  {
   "cell_type": "markdown",
   "id": "HM5hnS2QBxGR",
   "metadata": {
    "id": "HM5hnS2QBxGR"
   },
   "source": [
    "Случайный лес"
   ]
  },
  {
   "cell_type": "code",
   "execution_count": 131,
   "id": "kbATBYt1Bx1b",
   "metadata": {
    "id": "kbATBYt1Bx1b"
   },
   "outputs": [],
   "source": [
    "from sklearn.ensemble import RandomForestRegressor\n",
    "\n",
    "rf = RandomForestRegressor(n_estimators=100)\n",
    "rf.fit(X_train, y_train)\n",
    "\n",
    "y_pred_rf = rf.predict(X_test)\n",
    "\n",
    "mae_rf = mean_squared_error(y_test, y_pred_rf)\n",
    "rmse_rf = root_mean_squared_error(y_test, y_pred_rf)"
   ]
  },
  {
   "cell_type": "markdown",
   "id": "3a72e261",
   "metadata": {},
   "source": [
    "Каждое дерево в случайном лесе обучается на случайной выборке данных, и используется случайный набор признаков для каждого раздела, что снижает корреляцию между деревьями."
   ]
  },
  {
   "cell_type": "markdown",
   "id": "c9f2ca7c",
   "metadata": {},
   "source": [
    "# 5. Подсчет метрик"
   ]
  },
  {
   "cell_type": "code",
   "execution_count": null,
   "id": "n1S9cebpCZzj",
   "metadata": {
    "id": "n1S9cebpCZzj"
   },
   "outputs": [],
   "source": [
    "def Metrik(y_pred, y_true=y_test):\n",
    "    y_true, y_pred = np.array(y_true), np.array(y_pred)\n",
    "    return np.mean(np.abs((y_true - y_pred) / y_true)) * 100\n",
    "\n",
    "metrik_model = Metrik(y_pred_model)\n",
    "metrik_tree = Metrik(y_pred_tree)\n",
    "metrik_knn = Metrik(y_pred_knn)\n",
    "metrik_rf = Metrik(y_pred_rf)\n",
    "\n",
    "metrics = pd.DataFrame({\n",
    "    'Model': ['Линейная', 'Деревянная', 'K', 'Случ Лес'],\n",
    "    'MAE': [mae_model, mae_tree, mae_knn, mae_rf], #Средняя абсолютная ошибка \n",
    "    'RMSE': [rmse_model, rmse_tree, rmse_knn, rmse_rf], #Корень из среднеквадратичной ошибки\n",
    "    'MAPE': [metrik_model, metrik_tree, metrik_knn, mape_rf] #Средняя абсолютная ошибка\n",
    "})\n",
    "\n"
   ]
  },
  {
   "cell_type": "code",
   "execution_count": 133,
   "id": "1YTnI4K1JHj8",
   "metadata": {
    "colab": {
     "base_uri": "https://localhost:8080/",
     "height": 175
    },
    "id": "1YTnI4K1JHj8",
    "outputId": "3326bef8-7aed-4d53-b3ff-19128313c3d4"
   },
   "outputs": [
    {
     "data": {
      "text/html": [
       "<div>\n",
       "<style scoped>\n",
       "    .dataframe tbody tr th:only-of-type {\n",
       "        vertical-align: middle;\n",
       "    }\n",
       "\n",
       "    .dataframe tbody tr th {\n",
       "        vertical-align: top;\n",
       "    }\n",
       "\n",
       "    .dataframe thead th {\n",
       "        text-align: right;\n",
       "    }\n",
       "</style>\n",
       "<table border=\"1\" class=\"dataframe\">\n",
       "  <thead>\n",
       "    <tr style=\"text-align: right;\">\n",
       "      <th></th>\n",
       "      <th>Model</th>\n",
       "      <th>MAE</th>\n",
       "      <th>RMSE</th>\n",
       "      <th>MAPE</th>\n",
       "    </tr>\n",
       "  </thead>\n",
       "  <tbody>\n",
       "    <tr>\n",
       "      <th>0</th>\n",
       "      <td>Линейная</td>\n",
       "      <td>0.004505</td>\n",
       "      <td>0.067120</td>\n",
       "      <td>7.511657</td>\n",
       "    </tr>\n",
       "    <tr>\n",
       "      <th>1</th>\n",
       "      <td>Деревянная</td>\n",
       "      <td>0.005792</td>\n",
       "      <td>0.076102</td>\n",
       "      <td>8.388049</td>\n",
       "    </tr>\n",
       "    <tr>\n",
       "      <th>2</th>\n",
       "      <td>K</td>\n",
       "      <td>0.004552</td>\n",
       "      <td>0.067472</td>\n",
       "      <td>7.878422</td>\n",
       "    </tr>\n",
       "    <tr>\n",
       "      <th>3</th>\n",
       "      <td>Случ Лес</td>\n",
       "      <td>0.005075</td>\n",
       "      <td>0.071239</td>\n",
       "      <td>8.369899</td>\n",
       "    </tr>\n",
       "  </tbody>\n",
       "</table>\n",
       "</div>"
      ],
      "text/plain": [
       "        Model       MAE      RMSE      MAPE\n",
       "0    Линейная  0.004505  0.067120  7.511657\n",
       "1  Деревянная  0.005792  0.076102  8.388049\n",
       "2           K  0.004552  0.067472  7.878422\n",
       "3    Случ Лес  0.005075  0.071239  8.369899"
      ]
     },
     "execution_count": 133,
     "metadata": {},
     "output_type": "execute_result"
    }
   ],
   "source": [
    "metrics"
   ]
  },
  {
   "cell_type": "markdown",
   "id": "b2265251",
   "metadata": {},
   "source": [
    "Какая модель справилась лучше с поставленной задачей?\n",
    "- Линейная модель показала наименьшие значения MAE, RMSE и MAPE\n",
    "\n",
    "Имеет ли место переобучение?\n",
    "- Переобучение происходит, когда модель слишком хорошо обучается на тренировочной выборке, но плохо обобщает на тестовой\n",
    "В данном случае все модели показывают схожие результаты => отсутствие значительного переобучения\n",
    "\n",
    "Имеет ли место недообучение?\n",
    "- все модели имеют достаточно низкие значения MAE, RMSE и MAPE, что указывает на хорошую обучаемость => нет явных признаков недообучения\n",
    "\n",
    "Как можно улучшить метрики моделей?\n",
    "- Настройка гиперпараметров, использование других методов регуляризации или более сложная модель"
   ]
  }
 ],
 "metadata": {
  "colab": {
   "provenance": []
  },
  "kernelspec": {
   "display_name": "base",
   "language": "python",
   "name": "python3"
  },
  "language_info": {
   "codemirror_mode": {
    "name": "ipython",
    "version": 3
   },
   "file_extension": ".py",
   "mimetype": "text/x-python",
   "name": "python",
   "nbconvert_exporter": "python",
   "pygments_lexer": "ipython3",
   "version": "3.12.4"
  }
 },
 "nbformat": 4,
 "nbformat_minor": 5
}
